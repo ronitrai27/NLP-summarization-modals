{
  "nbformat": 4,
  "nbformat_minor": 0,
  "metadata": {
    "colab": {
      "provenance": [],
      "gpuType": "T4",
      "collapsed_sections": [
        "JIb5zIUnjYpt",
        "SmhB5oIOVV9U",
        "3TEblK59gArr",
        "OIz_fVzZnkou"
      ],
      "authorship_tag": "ABX9TyPtB9L5nCBEnpGKEfG6+TsJ",
      "include_colab_link": true
    },
    "kernelspec": {
      "name": "python3",
      "display_name": "Python 3"
    },
    "language_info": {
      "name": "python"
    },
    "accelerator": "GPU"
  },
  "cells": [
    {
      "cell_type": "markdown",
      "metadata": {
        "id": "view-in-github",
        "colab_type": "text"
      },
      "source": [
        "<a href=\"https://colab.research.google.com/github/ronitrai27/NLP-summarization-modals/blob/main/Rox_summarization.ipynb\" target=\"_parent\"><img src=\"https://colab.research.google.com/assets/colab-badge.svg\" alt=\"Open In Colab\"/></a>"
      ]
    },
    {
      "cell_type": "markdown",
      "source": [
        "# **SUMMARIZATION** MODALS"
      ],
      "metadata": {
        "id": "8ts-Px14qf6y"
      }
    },
    {
      "cell_type": "markdown",
      "source": [
        "# SUMMARIZATION PEGASUS\n"
      ],
      "metadata": {
        "id": "JIb5zIUnjYpt"
      }
    },
    {
      "cell_type": "code",
      "source": [
        "from transformers import pipeline\n",
        "import torch\n"
      ],
      "metadata": {
        "id": "t-VSw4wUjjlX"
      },
      "execution_count": null,
      "outputs": []
    },
    {
      "cell_type": "code",
      "source": [
        "summarizer = pipeline('summarization', model='google/pegasus-xsum')\n",
        "summarizer = pipeline('summarization', model='google/pegasus-cnn_dailymail')\n"
      ],
      "metadata": {
        "id": "WTVn1mujnF4E"
      },
      "execution_count": null,
      "outputs": []
    },
    {
      "cell_type": "code",
      "source": [
        "# Check if GPU is available and set device accordingly\n",
        "print(torch.cuda.is_available())  # This should return True if a GPU is available\n",
        "if torch.cuda.is_available():\n",
        "    device = 0\n",
        "else:\n",
        "    device = -1"
      ],
      "metadata": {
        "id": "J_zdQ-GXnLZx",
        "colab": {
          "base_uri": "https://localhost:8080/"
        },
        "outputId": "8f06b860-754a-4859-f106-fadf6f98d8a6"
      },
      "execution_count": null,
      "outputs": [
        {
          "output_type": "stream",
          "name": "stdout",
          "text": [
            "True\n"
          ]
        }
      ]
    },
    {
      "cell_type": "code",
      "source": [
        "# Summarize with Pegasus\n",
        "article = \"\"\"\n",
        "First of all, understand that India is the land of festivals. However, none of the festivals comes close to Diwali. It is certainly one of the biggest festivals in India. It is probably the brightest festival in the world. People of different religions celebrate Diwali. Most noteworthy, the festival signifies the victory of light over darkness. This also means the triumph of good over evil and knowledge over ignorance. It is known as the festival of lights. Consequently, there are bright lights all over the whole country during Diwali. In this essay on Diwali, we will see the religious and spiritual significance of Diwali.The religious significance of this festival has differences. It varies from one region to another in India. There is an association of many deities, cultures, and traditions with Diwali. The reason for these differences is probably local harvest festivals. Hence, there was a fusion of these harvest festivals into one pan-Hindu festival.\n",
        "According to the Ramayana, Diwali is the day of the return of Rama. This day Lord Rama returned to Ayodhya along with his wife Sita. This return was made after Rama defeated demon King Ravana. Furthermore, Rama’s brother Lakshmana and Hanuman also came back to Ayodhya victorious.\n",
        "There is another popular tradition for the reason of Diwali. Here Lord Vishnu as an incarnation of Krishna killed Narakasura. Narakasura was certainly a demon. Above all, this victory brought the release of 16000 captive girls.\n",
        "Furthermore, this victory shows the triumph of good over evil. This is due to Lord Krishna being good and Narakasura being evil.\n",
        "Association of Diwali to Goddess Lakshmi is the belief of many Hindus. Lakshmi is the wife of Lord Vishnu. She also happens to be the Goddess of wealth and prosperity.\n",
        "According to a legend, Diwali is the night of Lakshmi wedding. This night she chose and wed Vishnu. Eastern India Hindus associate Diwali with Goddess Durga or kali. Some Hindus believe Diwali to be the start of a new year.\n",
        "\"\"\"\n",
        "summary = summarizer(article, max_length=100, min_length=40, do_sample=False)\n"
      ],
      "metadata": {
        "id": "i-nR2Bi0nOdm"
      },
      "execution_count": null,
      "outputs": []
    },
    {
      "cell_type": "code",
      "source": [
        "print(summary[0]['summary_text'])"
      ],
      "metadata": {
        "colab": {
          "base_uri": "https://localhost:8080/"
        },
        "id": "cOA4AvFJnQT4",
        "outputId": "8fb5254a-d90d-4d5b-83de-99a0d2b9d233"
      },
      "execution_count": null,
      "outputs": [
        {
          "output_type": "stream",
          "name": "stdout",
          "text": [
            "The religious significance of Diwali varies from one region to another in India .<n>There is an association of many deities, cultures, and traditions with Diwali .<n>According to the Ramayana, Diwali is the day of the return of Rama .<n>Some Hindus believe Diwali to be the start of a new year .\n"
          ]
        }
      ]
    },
    {
      "cell_type": "markdown",
      "source": [
        "# PEGASUS MANNUAL\n"
      ],
      "metadata": {
        "id": "SmhB5oIOVV9U"
      }
    },
    {
      "cell_type": "markdown",
      "source": [
        " First of all, understand that India is the land of festivals. However, none of the festivals comes close to Diwali. It is certainly one of the biggest festivals in India. It is probably the brightest festival in the world. People of different religions celebrate Diwali. Most noteworthy, the festival signifies the victory of light over darkness. This also means the triumph of good over evil and knowledge over ignorance. It is known as the festival of lights. Consequently, there are bright lights all over the whole country during Diwali. In this essay on Diwali, we will see the religious and spiritual significance of Diwali.The religious significance of this festival has differences. It varies from one region to another in India. There is an association of many deities, cultures, and traditions with Diwali. The reason for these differences is probably local harvest festivals. Hence, there was a fusion of these harvest festivals into one pan-Hindu festival.\n",
        "According to the Ramayana, Diwali is the day of the return of Rama. This day Lord Rama returned to Ayodhya along with his wife Sita. This return was made after Rama defeated demon King Ravana. Furthermore, Rama’s brother Lakshmana and Hanuman also came back to Ayodhya victorious.\n",
        "There is another popular tradition for the reason of Diwali. Here Lord Vishnu as an incarnation of Krishna killed Narakasura. Narakasura was certainly a demon. Above all, this victory brought the release of 16000 captive girls.\n",
        "Furthermore, this victory shows the triumph of good over evil. This is due to Lord Krishna being good and Narakasura being evil.\n",
        "Association of Diwali to Goddess Lakshmi is the belief of many Hindus. Lakshmi is the wife of Lord Vishnu. She also happens to be the Goddess of wealth and prosperity.\n",
        "According to a legend, Diwali is the night of Lakshmi wedding. This night she chose and wed Vishnu. Eastern India Hindus associate Diwali with Goddess Durga or kali. Some Hindus believe Diwali to be the start of a new year."
      ],
      "metadata": {
        "id": "36vRGJPjjWBx"
      }
    },
    {
      "cell_type": "code",
      "source": [
        "# Load model directly\n",
        "from transformers import AutoTokenizer, AutoModelForSeq2SeqLM\n",
        "\n",
        "tokenizer = AutoTokenizer.from_pretrained(\"google/pegasus-xsum\")\n",
        "model = AutoModelForSeq2SeqLM.from_pretrained(\"google/pegasus-xsum\")"
      ],
      "metadata": {
        "id": "fBqfxvwzWvIJ"
      },
      "execution_count": null,
      "outputs": []
    },
    {
      "cell_type": "code",
      "source": [
        "text = \"\"\"\n",
        "First of all, understand that India is the land of festivals. However, none of the festivals comes close to Diwali. It is certainly one of the biggest festivals in India. It is probably the brightest festival in the world. People of different religions celebrate Diwali. Most noteworthy, the festival signifies the victory of light over darkness. This also means the triumph of good over evil and knowledge over ignorance. It is known as the festival of lights. Consequently, there are bright lights all over the whole country during Diwali. In this essay on Diwali, we will see the religious and spiritual significance of Diwali.The religious significance of this festival has differences. It varies from one region to another in India. There is an association of many deities, cultures, and traditions with Diwali. The reason for these differences is probably local harvest festivals. Hence, there was a fusion of these harvest festivals into one pan-Hindu festival. According to the Ramayana, Diwali is the day of the return of Rama. This day Lord Rama returned to Ayodhya along with his wife Sita. This return was made after Rama defeated demon King Ravana. Furthermore, Rama’s brother Lakshmana and Hanuman also came back to Ayodhya victorious. There is another popular tradition for the reason of Diwali. Here Lord Vishnu as an incarnation of Krishna killed Narakasura. Narakasura was certainly a demon. Above all, this victory brought the release of 16000 captive girls. Furthermore, this victory shows the triumph of good over evil. This is due to Lord Krishna being good and Narakasura being evil. Association of Diwali to Goddess Lakshmi is the belief of many Hindus. Lakshmi is the wife of Lord Vishnu. She also happens to be the Goddess of wealth and prosperity. According to a legend, Diwali is the night of Lakshmi wedding. This night she chose and wed Vishnu. Eastern India Hindus associate Diwali with Goddess Durga or kali. Some Hindus believe Diwali to be the start of a new year.\n",
        "\"\"\"\n",
        "\n",
        "# Tokenize input text\n",
        "inputs = tokenizer(text, return_tensors=\"pt\", max_length=512, truncation=True)\n",
        "\n",
        "# Generate summary using the model\n",
        "summary_ids = model.generate(\n",
        "    inputs[\"input_ids\"],\n",
        "    max_length=240,        # Max length of the summary\n",
        "    min_length=50,        # Min length of the summary\n",
        "    length_penalty=2.0,   # Penalty to encourage longer summaries\n",
        "    num_beams=4,          # Beam search for better accuracy\n",
        "    early_stopping=True   # Stop early when an optimal summary is found\n",
        ")\n",
        "\n",
        "\n"
      ],
      "metadata": {
        "id": "0B60tz1cXHVd"
      },
      "execution_count": null,
      "outputs": []
    },
    {
      "cell_type": "code",
      "source": [
        "# Decode the generated summary\n",
        "summary_manual = tokenizer.decode(summary_ids[0], skip_special_tokens=True)\n",
        "print(\" Summary:\", summary_manual)"
      ],
      "metadata": {
        "colab": {
          "base_uri": "https://localhost:8080/"
        },
        "id": "Jbkod-77YatA",
        "outputId": "069c91ab-b7ec-4d24-a6ff-8c9fc7f32a5b"
      },
      "execution_count": null,
      "outputs": [
        {
          "output_type": "stream",
          "name": "stdout",
          "text": [
            " Summary: Diwali is one of the most important festivals in India and it is celebrated by millions of people all over the country and around the world on the night of the 10th of November, every year. Association of Diwali to Goddess Lakshmi is the belief of many Hindus.\n"
          ]
        }
      ]
    },
    {
      "cell_type": "markdown",
      "source": [
        "# **BART LARGE SUMMARIZATION**"
      ],
      "metadata": {
        "id": "3TEblK59gArr"
      }
    },
    {
      "cell_type": "code",
      "source": [
        "from transformers import pipeline"
      ],
      "metadata": {
        "id": "MVXHJVAFgHIs"
      },
      "execution_count": null,
      "outputs": []
    },
    {
      "cell_type": "code",
      "source": [
        "\n",
        "summarizer = pipeline(\"summarization\", model=\"facebook/bart-large-cnn\")"
      ],
      "metadata": {
        "id": "EkhdSg14gDvn"
      },
      "execution_count": null,
      "outputs": []
    },
    {
      "cell_type": "code",
      "source": [
        "\n",
        "ARTICLE = \"\"\"\n",
        " First of all, understand that India is the land of festivals. However, none of the festivals comes close to Diwali. It is certainly one of the biggest festivals in India. It is probably the brightest festival in the world. People of different religions celebrate Diwali. Most noteworthy, the festival signifies the victory of light over darkness. This also means the triumph of good over evil and knowledge over ignorance. It is known as the festival of lights. Consequently, there are bright lights all over the whole country during Diwali. In this essay on Diwali, we will see the religious and spiritual significance of Diwali.The religious significance of this festival has differences. It varies from one region to another in India. There is an association of many deities, cultures, and traditions with Diwali. The reason for these differences is probably local harvest festivals. Hence, there was a fusion of these harvest festivals into one pan-Hindu festival.\n",
        "According to the Ramayana, Diwali is the day of the return of Rama. This day Lord Rama returned to Ayodhya along with his wife Sita. This return was made after Rama defeated demon King Ravana. Furthermore, Rama’s brother Lakshmana and Hanuman also came back to Ayodhya victorious.\n",
        "There is another popular tradition for the reason of Diwali. Here Lord Vishnu as an incarnation of Krishna killed Narakasura. Narakasura was certainly a demon. Above all, this victory brought the release of 16000 captive girls.\n",
        "Furthermore, this victory shows the triumph of good over evil. This is due to Lord Krishna being good and Narakasura being evil.\n",
        "Association of Diwali to Goddess Lakshmi is the belief of many Hindus. Lakshmi is the wife of Lord Vishnu. She also happens to be the Goddess of wealth and prosperity.\n",
        "According to a legend, Diwali is the night of Lakshmi wedding. This night she chose and wed Vishnu. Eastern India Hindus associate Diwali with Goddess Durga or kali. Some Hindus believe Diwali to be the start of a new year.\n",
        "\"\"\"\n",
        "print(summarizer(ARTICLE, max_length=130, min_length=30, do_sample=False))"
      ],
      "metadata": {
        "colab": {
          "base_uri": "https://localhost:8080/"
        },
        "id": "kuHqluBJgo1-",
        "outputId": "6f3acd70-5a8b-4ece-9260-04846d0a94f2"
      },
      "execution_count": null,
      "outputs": [
        {
          "output_type": "stream",
          "name": "stdout",
          "text": [
            "[{'summary_text': 'According to the Ramayana, Diwali is the day of the return of Rama. This day Lord Rama returned to Ayodhya along with his wife Sita. This return was made after Rama defeated King Ravana.'}]\n"
          ]
        }
      ]
    },
    {
      "cell_type": "markdown",
      "source": [
        "# PIPELINE SUMMARIZATION"
      ],
      "metadata": {
        "id": "OIz_fVzZnkou"
      }
    },
    {
      "cell_type": "code",
      "source": [
        "# installing transformenrs!\n",
        "!pip install transformers\n",
        "from transformers import pipeline\n",
        "# load summarizer pipeline\n",
        "summarizer = pipeline('summarization')"
      ],
      "metadata": {
        "id": "og2dbAvLnu9Y"
      },
      "execution_count": null,
      "outputs": []
    },
    {
      "cell_type": "code",
      "source": [
        "article = \"\"\"\n",
        "First of all, understand that India is the land of festivals. However, none of the festivals comes close to Diwali. It is certainly one of the biggest festivals in India. It is probably the brightest festival in the world. People of different religions celebrate Diwali. Most noteworthy, the festival signifies the victory of light over darkness. This also means the triumph of good over evil and knowledge over ignorance. It is known as the festival of lights. Consequently, there are bright lights all over the whole country during Diwali. In this essay on Diwali, we will see the religious and spiritual significance of Diwali.The religious significance of this festival has differences. It varies from one region to another in India. There is an association of many deities, cultures, and traditions with Diwali. The reason for these differences is probably local harvest festivals. Hence, there was a fusion of these harvest festivals into one pan-Hindu festival.\n",
        "According to the Ramayana, Diwali is the day of the return of Rama. This day Lord Rama returned to Ayodhya along with his wife Sita. This return was made after Rama defeated demon King Ravana. Furthermore, Rama’s brother Lakshmana and Hanuman also came back to Ayodhya victorious.\n",
        "There is another popular tradition for the reason of Diwali. Here Lord Vishnu as an incarnation of Krishna killed Narakasura. Narakasura was certainly a demon. Above all, this victory brought the release of 16000 captive girls.\n",
        "Furthermore, this victory shows the triumph of good over evil. This is due to Lord Krishna being good and Narakasura being evil.\n",
        "Association of Diwali to Goddess Lakshmi is the belief of many Hindus. Lakshmi is the wife of Lord Vishnu. She also happens to be the Goddess of wealth and prosperity.\n",
        "According to a legend, Diwali is the night of Lakshmi wedding. This night she chose and wed Vishnu. Eastern India Hindus associate Diwali with Goddess Durga or kali. Some Hindus believe Diwali to be the start of a new year.\n",
        "\"\"\"\n",
        "summary = summarizer(article, max_length=250, min_length=50, do_sample=False)\n"
      ],
      "metadata": {
        "id": "2UYtFaD3npLR"
      },
      "execution_count": null,
      "outputs": []
    },
    {
      "cell_type": "code",
      "source": [
        " summary[0]['summary_text']"
      ],
      "metadata": {
        "colab": {
          "base_uri": "https://localhost:8080/",
          "height": 52
        },
        "id": "nzTIJo3ZnrWB",
        "outputId": "94739264-85d8-4b25-cce7-4faa6a352028"
      },
      "execution_count": null,
      "outputs": [
        {
          "output_type": "execute_result",
          "data": {
            "text/plain": [
              "' Diwali means triumph of good over evil and knowledge over ignorance . The festival signifies the victory of light over darkness . It is known as the festival of lights . The religious significance of this festival varies from one region to another in India . The reason for these differences is probably local harvest festivals .'"
            ],
            "application/vnd.google.colaboratory.intrinsic+json": {
              "type": "string"
            }
          },
          "metadata": {},
          "execution_count": 3
        }
      ]
    }
  ]
}